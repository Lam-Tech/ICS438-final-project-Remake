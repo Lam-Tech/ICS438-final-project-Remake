{
 "cells": [
  {
   "cell_type": "markdown",
   "id": "b4a9acea",
   "metadata": {},
   "source": [
    "Import Section:"
   ]
  },
  {
   "cell_type": "code",
   "execution_count": 1,
   "id": "3eaaa3b9",
   "metadata": {},
   "outputs": [],
   "source": [
    "import pandas as pd"
   ]
  },
  {
   "cell_type": "markdown",
   "id": "91c997e2",
   "metadata": {},
   "source": [
    "Function to set up game recommand and reviews"
   ]
  },
  {
   "cell_type": "code",
   "execution_count": null,
   "id": "82c5ec19",
   "metadata": {},
   "outputs": [],
   "source": [
    "df = pd.read_csv(\"data/steam_reviews.csv\")\n",
    "print(df.head(2))"
   ]
  },
  {
   "cell_type": "markdown",
   "id": "6b94da6d",
   "metadata": {},
   "source": [
    "Function"
   ]
  },
  {
   "cell_type": "markdown",
   "id": "c7a4b41f",
   "metadata": {},
   "source": [
    "Interface"
   ]
  },
  {
   "cell_type": "code",
   "execution_count": null,
   "id": "7209821a",
   "metadata": {},
   "outputs": [],
   "source": [
    "game = input(\"What is your favorite Game on Steam \\n\")\n",
    "recommandgame = \"Chak Lam do something\"\n",
    "print(\"Here are some game, you may like\", recommandgame)\n"
   ]
  },
  {
   "cell_type": "code",
   "execution_count": null,
   "id": "bec0aea7",
   "metadata": {},
   "outputs": [],
   "source": []
  }
 ],
 "metadata": {
  "kernelspec": {
   "display_name": "Python 3 (ipykernel)",
   "language": "python",
   "name": "python3"
  },
  "language_info": {
   "codemirror_mode": {
    "name": "ipython",
    "version": 3
   },
   "file_extension": ".py",
   "mimetype": "text/x-python",
   "name": "python",
   "nbconvert_exporter": "python",
   "pygments_lexer": "ipython3",
   "version": "3.10.0"
  }
 },
 "nbformat": 4,
 "nbformat_minor": 5
}
