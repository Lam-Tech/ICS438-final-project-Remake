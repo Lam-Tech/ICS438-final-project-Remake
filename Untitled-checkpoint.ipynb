{
 "cells": [
  {
   "cell_type": "markdown",
   "id": "b4a9acea",
   "metadata": {},
   "source": [
    "Import Section:"
   ]
  },
  {
   "cell_type": "code",
   "execution_count": 66,
   "id": "3eaaa3b9",
   "metadata": {},
   "outputs": [],
   "source": [
    "import pandas as pd"
   ]
  },
  {
   "cell_type": "markdown",
   "id": "0c0c6546",
   "metadata": {},
   "source": [
    "First we will read in the steam_reviews.csv to see how we can use our data."
   ]
  },
  {
   "cell_type": "code",
   "execution_count": 67,
   "id": "82c5ec19",
   "metadata": {},
   "outputs": [],
   "source": [
    "df = pd.read_csv(\"data/steam_reviews.csv\")"
   ]
  },
  {
   "cell_type": "markdown",
   "id": "202dcfbb",
   "metadata": {},
   "source": [
    "We can drop the first column called `Unnamed: 0`, since it is just the index value."
   ]
  },
  {
   "cell_type": "code",
   "execution_count": null,
   "id": "2c11f092",
   "metadata": {
    "scrolled": true
   },
   "outputs": [],
   "source": [
    "df = df.drop(columns=['Unnamed: 0'])\n",
    "df.head(3)"
   ]
  },
  {
   "cell_type": "markdown",
   "id": "6a9a195a",
   "metadata": {},
   "source": [
    "Here we can see the total number of games, user, and reviews in our data.\n",
    " - The `app_id` contains a unique id for each game\n",
    " - The `author.steamid` contains the unique id for the user who left the review\n",
    " - The `review_id` contains a unique id for review"
   ]
  },
  {
   "cell_type": "code",
   "execution_count": null,
   "id": "f03e067d",
   "metadata": {},
   "outputs": [],
   "source": [
    "total_games = len(pd.unique(df['app_id']))\n",
    "total_user = len(pd.unique(df['author.steamid']))\n",
    "total_reviews = len(pd.unique(df['review_id']))\n",
    "\n",
    "print(\"Total number of games: \", total_games)\n",
    "print(\"Total number of user: \", total_user)\n",
    "print(\"Total number of reviews: \", total_reviews)"
   ]
  },
  {
   "cell_type": "code",
   "execution_count": null,
   "id": "5bff4883",
   "metadata": {},
   "outputs": [],
   "source": []
  },
  {
   "cell_type": "markdown",
   "id": "ea051e60",
   "metadata": {},
   "source": [
    "We can drop the columns called appid,publisher,platforms,required_age,achievements,negative_ratings, english, and owners, since those value are not useful for determing the recommand games."
   ]
  },
  {
   "cell_type": "code",
   "execution_count": 3,
   "id": "bed25351",
   "metadata": {
    "scrolled": true
   },
   "outputs": [
    {
     "data": {
      "text/html": [
       "<div>\n",
       "<style scoped>\n",
       "    .dataframe tbody tr th:only-of-type {\n",
       "        vertical-align: middle;\n",
       "    }\n",
       "\n",
       "    .dataframe tbody tr th {\n",
       "        vertical-align: top;\n",
       "    }\n",
       "\n",
       "    .dataframe thead th {\n",
       "        text-align: right;\n",
       "    }\n",
       "</style>\n",
       "<table border=\"1\" class=\"dataframe\">\n",
       "  <thead>\n",
       "    <tr style=\"text-align: right;\">\n",
       "      <th></th>\n",
       "      <th>name</th>\n",
       "      <th>release_date</th>\n",
       "      <th>developer</th>\n",
       "      <th>categories</th>\n",
       "      <th>genres</th>\n",
       "      <th>steamspy_tags</th>\n",
       "      <th>positive_ratings</th>\n",
       "      <th>average_playtime</th>\n",
       "      <th>median_playtime</th>\n",
       "      <th>price</th>\n",
       "    </tr>\n",
       "  </thead>\n",
       "  <tbody>\n",
       "    <tr>\n",
       "      <th>0</th>\n",
       "      <td>Counter-Strike</td>\n",
       "      <td>2000-11-01</td>\n",
       "      <td>Valve</td>\n",
       "      <td>Multi-player;Online Multi-Player;Local Multi-P...</td>\n",
       "      <td>Action</td>\n",
       "      <td>Action;FPS;Multiplayer</td>\n",
       "      <td>124534</td>\n",
       "      <td>17612</td>\n",
       "      <td>317</td>\n",
       "      <td>7.19</td>\n",
       "    </tr>\n",
       "    <tr>\n",
       "      <th>1</th>\n",
       "      <td>Team Fortress Classic</td>\n",
       "      <td>1999-04-01</td>\n",
       "      <td>Valve</td>\n",
       "      <td>Multi-player;Online Multi-Player;Local Multi-P...</td>\n",
       "      <td>Action</td>\n",
       "      <td>Action;FPS;Multiplayer</td>\n",
       "      <td>3318</td>\n",
       "      <td>277</td>\n",
       "      <td>62</td>\n",
       "      <td>3.99</td>\n",
       "    </tr>\n",
       "    <tr>\n",
       "      <th>2</th>\n",
       "      <td>Day of Defeat</td>\n",
       "      <td>2003-05-01</td>\n",
       "      <td>Valve</td>\n",
       "      <td>Multi-player;Valve Anti-Cheat enabled</td>\n",
       "      <td>Action</td>\n",
       "      <td>FPS;World War II;Multiplayer</td>\n",
       "      <td>3416</td>\n",
       "      <td>187</td>\n",
       "      <td>34</td>\n",
       "      <td>3.99</td>\n",
       "    </tr>\n",
       "    <tr>\n",
       "      <th>3</th>\n",
       "      <td>Deathmatch Classic</td>\n",
       "      <td>2001-06-01</td>\n",
       "      <td>Valve</td>\n",
       "      <td>Multi-player;Online Multi-Player;Local Multi-P...</td>\n",
       "      <td>Action</td>\n",
       "      <td>Action;FPS;Multiplayer</td>\n",
       "      <td>1273</td>\n",
       "      <td>258</td>\n",
       "      <td>184</td>\n",
       "      <td>3.99</td>\n",
       "    </tr>\n",
       "    <tr>\n",
       "      <th>4</th>\n",
       "      <td>Half-Life: Opposing Force</td>\n",
       "      <td>1999-11-01</td>\n",
       "      <td>Gearbox Software</td>\n",
       "      <td>Single-player;Multi-player;Valve Anti-Cheat en...</td>\n",
       "      <td>Action</td>\n",
       "      <td>FPS;Action;Sci-fi</td>\n",
       "      <td>5250</td>\n",
       "      <td>624</td>\n",
       "      <td>415</td>\n",
       "      <td>3.99</td>\n",
       "    </tr>\n",
       "  </tbody>\n",
       "</table>\n",
       "</div>"
      ],
      "text/plain": [
       "                        name release_date         developer  \\\n",
       "0             Counter-Strike   2000-11-01             Valve   \n",
       "1      Team Fortress Classic   1999-04-01             Valve   \n",
       "2              Day of Defeat   2003-05-01             Valve   \n",
       "3         Deathmatch Classic   2001-06-01             Valve   \n",
       "4  Half-Life: Opposing Force   1999-11-01  Gearbox Software   \n",
       "\n",
       "                                          categories  genres  \\\n",
       "0  Multi-player;Online Multi-Player;Local Multi-P...  Action   \n",
       "1  Multi-player;Online Multi-Player;Local Multi-P...  Action   \n",
       "2              Multi-player;Valve Anti-Cheat enabled  Action   \n",
       "3  Multi-player;Online Multi-Player;Local Multi-P...  Action   \n",
       "4  Single-player;Multi-player;Valve Anti-Cheat en...  Action   \n",
       "\n",
       "                  steamspy_tags  positive_ratings  average_playtime  \\\n",
       "0        Action;FPS;Multiplayer            124534             17612   \n",
       "1        Action;FPS;Multiplayer              3318               277   \n",
       "2  FPS;World War II;Multiplayer              3416               187   \n",
       "3        Action;FPS;Multiplayer              1273               258   \n",
       "4             FPS;Action;Sci-fi              5250               624   \n",
       "\n",
       "   median_playtime  price  \n",
       "0              317   7.19  \n",
       "1               62   3.99  \n",
       "2               34   3.99  \n",
       "3              184   3.99  \n",
       "4              415   3.99  "
      ]
     },
     "execution_count": 3,
     "metadata": {},
     "output_type": "execute_result"
    }
   ],
   "source": [
    "steam_games = pd.read_csv(\"data/steam.csv\")\n",
    "steam_games = steam_games.drop(columns=['appid','publisher','platforms','required_age','achievements','negative_ratings','owners', 'english'])\n",
    "steam_games.head()"
   ]
  },
  {
   "cell_type": "markdown",
   "id": "1c5bef75",
   "metadata": {},
   "source": [
    "Function to find Recommand game from rating, playtime, and genres"
   ]
  },
  {
   "cell_type": "code",
   "execution_count": 54,
   "id": "a7613f92",
   "metadata": {},
   "outputs": [],
   "source": [
    "def findGameGenres(game_name):\n",
    "    counter = 0\n",
    "    result = []\n",
    "    for row in steam_games['name']:\n",
    "        if game_name == row:\n",
    "            result = steam_games.loc[counter,:]\n",
    "            genres = result['genres']\n",
    "            break\n",
    "        else:\n",
    "            counter = counter + 1\n",
    "            result = \"Game was not found\"\n",
    "    return result"
   ]
  },
  {
   "cell_type": "code",
   "execution_count": 42,
   "id": "265675ad",
   "metadata": {},
   "outputs": [],
   "source": [
    "def RGames(gamename):\n",
    "    index = steam_games.index\n",
    "    condition = steam_games[\"name\"] == gamename\n",
    "    index_of_given = index[condition].tolist()\n",
    "    null = []\n",
    "    if index_of_given == null:\n",
    "        return 'Game not found'\n",
    "    else:\n",
    "        given_game=findGameGenres(gamename)\n",
    "        genres = given_game['genres']\n",
    "        games_sort = []\n",
    "        testgame = steam_games\n",
    "        x = 0\n",
    "        for row in testgame['genres']:\n",
    "            if genres in row and x != index_of_given[0]:\n",
    "                games_sort.append(testgame.loc[x,:])\n",
    "            x = x + 1\n",
    "    \n",
    "        game_to_recommand = pd.DataFrame(games_sort)\n",
    "        game_to_recommand.sort_values(by=['positive_ratings','average_playtime'], inplace=True, ascending=False)\n",
    "        return game_to_recommand.head(10)"
   ]
  },
  {
   "cell_type": "code",
   "execution_count": 53,
   "id": "26b1849e",
   "metadata": {
    "scrolled": false
   },
   "outputs": [
    {
     "name": "stdout",
     "output_type": "stream",
     "text": [
      "Enter your favorite game on Steam \n",
      "asdasd\n"
     ]
    },
    {
     "data": {
      "text/plain": [
       "'Game was not found'"
      ]
     },
     "execution_count": 53,
     "metadata": {},
     "output_type": "execute_result"
    }
   ],
   "source": [
    "answer = input(\"Enter your favorite game on Steam \\n\")\n",
    "gamename = answer\n",
    "RGames(gamename)"
   ]
  }
 ],
 "metadata": {
  "kernelspec": {
   "display_name": "Python 3 (ipykernel)",
   "language": "python",
   "name": "python3"
  },
  "language_info": {
   "codemirror_mode": {
    "name": "ipython",
    "version": 3
   },
   "file_extension": ".py",
   "mimetype": "text/x-python",
   "name": "python",
   "nbconvert_exporter": "python",
   "pygments_lexer": "ipython3",
   "version": "3.9.7"
  }
 },
 "nbformat": 4,
 "nbformat_minor": 5
}
