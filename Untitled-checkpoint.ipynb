{
 "cells": [
  {
   "cell_type": "markdown",
   "id": "b4a9acea",
   "metadata": {},
   "source": [
    "Import Section:"
   ]
  },
  {
   "cell_type": "code",
   "execution_count": 1,
   "id": "3eaaa3b9",
   "metadata": {},
   "outputs": [],
   "source": [
    "import pandas as pd"
   ]
  },
  {
   "cell_type": "markdown",
   "id": "6fb68cec",
   "metadata": {},
   "source": [
    "Recommand API"
   ]
  },
  {
   "cell_type": "code",
   "execution_count": null,
   "id": "82c5ec19",
   "metadata": {},
   "outputs": [],
   "source": [
    "df = pd.read_csv(\"data/steam_reviews.csv\")\n",
    "print(df.head(2))"
   ]
  },
  {
   "cell_type": "markdown",
   "id": "2b9b40e3",
   "metadata": {},
   "source": [
    "Interface"
   ]
  },
  {
   "cell_type": "code",
   "execution_count": 7,
   "id": "0936e122",
   "metadata": {},
   "outputs": [
    {
     "name": "stdout",
     "output_type": "stream",
     "text": [
      "What is your favorite Game on Steam \n",
      "dasdas\n",
      "Here are some game, you may like how you doing\n"
     ]
    }
   ],
   "source": [
    "game = input(\"What is your favorite Game on Steam \\n\")\n",
    "recommandgame = \"how you doing\"\n",
    "print(\"Here are some game, you may like\", recommandgame)\n"
   ]
  },
  {
   "cell_type": "code",
   "execution_count": null,
   "id": "34ef07ee",
   "metadata": {},
   "outputs": [],
   "source": []
  }
 ],
 "metadata": {
  "kernelspec": {
   "display_name": "Python 3 (ipykernel)",
   "language": "python",
   "name": "python3"
  },
  "language_info": {
   "codemirror_mode": {
    "name": "ipython",
    "version": 3
   },
   "file_extension": ".py",
   "mimetype": "text/x-python",
   "name": "python",
   "nbconvert_exporter": "python",
   "pygments_lexer": "ipython3",
   "version": "3.10.0"
  }
 },
 "nbformat": 4,
 "nbformat_minor": 5
}
