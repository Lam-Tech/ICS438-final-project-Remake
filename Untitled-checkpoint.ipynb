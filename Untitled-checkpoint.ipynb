{
 "cells": [
  {
   "cell_type": "markdown",
   "id": "b4a9acea",
   "metadata": {},
   "source": [
    "Import Section:"
   ]
  },
  {
   "cell_type": "code",
   "execution_count": 1,
   "id": "3eaaa3b9",
   "metadata": {},
   "outputs": [],
   "source": [
    "import pandas as pd"
   ]
  },
  {
   "cell_type": "markdown",
   "id": "0c0c6546",
   "metadata": {},
   "source": [
    "Function to set up game recommand and reviews"
   ]
  },
  {
   "cell_type": "code",
   "execution_count": 3,
   "id": "82c5ec19",
   "metadata": {},
   "outputs": [
    {
     "name": "stdout",
     "output_type": "stream",
     "text": [
      "   Unnamed: 0  app_id                  app_name  review_id  language  \\\n",
      "0           0  292030  The Witcher 3: Wild Hunt   85185598  schinese   \n",
      "1           1  292030  The Witcher 3: Wild Hunt   85185250  schinese   \n",
      "\n",
      "                    review  timestamp_created  timestamp_updated  recommended  \\\n",
      "0  不玩此生遗憾，RPG游戏里的天花板，太吸引人了         1611381629         1611381629         True   \n",
      "1       拔DIAO无情打桩机--杰洛特!!!         1611381030         1611381030         True   \n",
      "\n",
      "   votes_helpful  ...  steam_purchase  received_for_free  \\\n",
      "0              0  ...            True              False   \n",
      "1              0  ...            True              False   \n",
      "\n",
      "   written_during_early_access     author.steamid  author.num_games_owned  \\\n",
      "0                        False  76561199095369542                       6   \n",
      "1                        False  76561198949504115                      30   \n",
      "\n",
      "   author.num_reviews  author.playtime_forever  \\\n",
      "0                   2                   1909.0   \n",
      "1                  10                   2764.0   \n",
      "\n",
      "   author.playtime_last_two_weeks  author.playtime_at_review  \\\n",
      "0                          1448.0                     1909.0   \n",
      "1                          2743.0                     2674.0   \n",
      "\n",
      "   author.last_played  \n",
      "0        1.611343e+09  \n",
      "1        1.611386e+09  \n",
      "\n",
      "[2 rows x 23 columns]\n"
     ]
    }
   ],
   "source": [
    "df = pd.read_csv(\"data/steam_reviews.csv\")\n",
    "print(df.head(2))"
   ]
  },
  {
   "cell_type": "code",
   "execution_count": 4,
   "id": "2c11f092",
   "metadata": {},
   "outputs": [
    {
     "name": "stdout",
     "output_type": "stream",
     "text": [
      "   Unnamed: 0  app_id                  app_name  review_id  language  \\\n",
      "0           0  292030  The Witcher 3: Wild Hunt   85185598  schinese   \n",
      "1           1  292030  The Witcher 3: Wild Hunt   85185250  schinese   \n",
      "2           2  292030  The Witcher 3: Wild Hunt   85185111  schinese   \n",
      "3           3  292030  The Witcher 3: Wild Hunt   85184605   english   \n",
      "4           4  292030  The Witcher 3: Wild Hunt   85184287  schinese   \n",
      "\n",
      "                                              review  timestamp_created  \\\n",
      "0                            不玩此生遗憾，RPG游戏里的天花板，太吸引人了         1611381629   \n",
      "1                                 拔DIAO无情打桩机--杰洛特!!!         1611381030   \n",
      "2                                              巫师3NB         1611380800   \n",
      "3  One of the best RPG's of all time, worthy of a...         1611379970   \n",
      "4                                                 大作         1611379427   \n",
      "\n",
      "   timestamp_updated  recommended  votes_helpful  ...  steam_purchase  \\\n",
      "0         1611381629         True              0  ...            True   \n",
      "1         1611381030         True              0  ...            True   \n",
      "2         1611380800         True              0  ...            True   \n",
      "3         1611379970         True              0  ...            True   \n",
      "4         1611379427         True              0  ...            True   \n",
      "\n",
      "   received_for_free  written_during_early_access     author.steamid  \\\n",
      "0              False                        False  76561199095369542   \n",
      "1              False                        False  76561198949504115   \n",
      "2              False                        False  76561199090098988   \n",
      "3              False                        False  76561199054755373   \n",
      "4              False                        False  76561199028326951   \n",
      "\n",
      "   author.num_games_owned  author.num_reviews  author.playtime_forever  \\\n",
      "0                       6                   2                   1909.0   \n",
      "1                      30                  10                   2764.0   \n",
      "2                       5                   1                   1061.0   \n",
      "3                       5                   3                   5587.0   \n",
      "4                       7                   4                    217.0   \n",
      "\n",
      "   author.playtime_last_two_weeks  author.playtime_at_review  \\\n",
      "0                          1448.0                     1909.0   \n",
      "1                          2743.0                     2674.0   \n",
      "2                          1061.0                     1060.0   \n",
      "3                          3200.0                     5524.0   \n",
      "4                            42.0                      217.0   \n",
      "\n",
      "   author.last_played  \n",
      "0        1.611343e+09  \n",
      "1        1.611386e+09  \n",
      "2        1.611384e+09  \n",
      "3        1.611384e+09  \n",
      "4        1.610788e+09  \n",
      "\n",
      "[5 rows x 23 columns]\n"
     ]
    }
   ],
   "source": [
    "print(df.head())"
   ]
  },
  {
   "cell_type": "markdown",
   "id": "6a9a195a",
   "metadata": {},
   "source": [
    "Function"
   ]
  },
  {
   "cell_type": "markdown",
   "id": "93e06b22",
   "metadata": {},
   "source": [
    "Interface"
   ]
  },
  {
   "cell_type": "code",
   "execution_count": 2,
   "id": "f03e067d",
   "metadata": {},
   "outputs": [
    {
     "name": "stdout",
     "output_type": "stream",
     "text": [
      "What is your favorite Game on Steam \n",
      "asdasdadasd\n",
      "Here are some game, you may like Chak Lam do something\n"
     ]
    }
   ],
   "source": [
    "game = input(\"What is your favorite Game on Steam \\n\")\n",
    "recommandgame = \"Chak Lam do something\"\n",
    "print(\"Here are some game, you may like\", recommandgame)"
   ]
  },
  {
   "cell_type": "code",
   "execution_count": null,
   "id": "5bff4883",
   "metadata": {},
   "outputs": [],
   "source": []
  }
 ],
 "metadata": {
  "kernelspec": {
   "display_name": "Python 3 (ipykernel)",
   "language": "python",
   "name": "python3"
  },
  "language_info": {
   "codemirror_mode": {
    "name": "ipython",
    "version": 3
   },
   "file_extension": ".py",
   "mimetype": "text/x-python",
   "name": "python",
   "nbconvert_exporter": "python",
   "pygments_lexer": "ipython3",
   "version": "3.10.0"
  }
 },
 "nbformat": 4,
 "nbformat_minor": 5
}
